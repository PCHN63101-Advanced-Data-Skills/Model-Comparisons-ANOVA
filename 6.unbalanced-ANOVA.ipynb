{
 "cells": [
  {
   "cell_type": "markdown",
   "id": "8a6b3fd6-1753-45e7-a920-fccf68cbdcac",
   "metadata": {},
   "source": [
    "# ANOVAs for Unbalanced Data\n",
    "..."
   ]
  },
  {
   "cell_type": "markdown",
   "id": "9728b939",
   "metadata": {},
   "source": [
    "## Type I Sum-of-Squares"
   ]
  },
  {
   "cell_type": "markdown",
   "id": "91e8b3d5",
   "metadata": {},
   "source": [
    "## Type II Sum-of-Squares"
   ]
  },
  {
   "cell_type": "markdown",
   "id": "671445bd",
   "metadata": {},
   "source": [
    "## Type III Sum-of-Squares"
   ]
  },
  {
   "cell_type": "markdown",
   "id": "d7ba1a5d",
   "metadata": {},
   "source": [
    "## The Type II vs Type III Debate"
   ]
  },
  {
   "cell_type": "markdown",
   "id": "bbc1ecd0",
   "metadata": {},
   "source": []
  }
 ],
 "metadata": {
  "kernelspec": {
   "display_name": "R",
   "language": "R",
   "name": "ir"
  },
  "language_info": {
   "codemirror_mode": "r",
   "file_extension": ".r",
   "mimetype": "text/x-r-source",
   "name": "R",
   "pygments_lexer": "r",
   "version": "4.5.0"
  }
 },
 "nbformat": 4,
 "nbformat_minor": 5
}
