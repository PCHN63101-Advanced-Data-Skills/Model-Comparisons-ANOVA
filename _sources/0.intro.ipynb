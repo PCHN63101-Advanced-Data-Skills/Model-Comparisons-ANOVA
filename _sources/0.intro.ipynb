{
 "cells": [
  {
   "cell_type": "markdown",
   "id": "0aff9971-428c-4632-8dcc-2451ce81b45b",
   "metadata": {
    "tags": []
   },
   "source": [
    "# Introduction\n",
    "So far on this unit, we have treated multiple regression as a way of modelling the relationship between a *continuous* outcome variable and *continuous* predictor variables. Although we saw last week that the use of a continuous outcome is one of the assumptions of a multiple regression model, the use of continuous predictors is not. As such, it is possible to mix continuous and categorical predictor variables within the same model. This ability is very important to understand because it allows multiple regression to become a much more general framework for statistical analysis. Categorical predictors are very common because they have strong ties to experimental research. For instance, comparing different conditions of an experimental task or comparing different groups of clinical patients. As such, the integration of categorical predictors makes multiple regression much more suitable for experimental data. Moreso, the integration of categorical predictors allows traditional analyses such as the $t$-test or ANOVA to be conducted within the multiple regression frameowork. This is a powerful approach that is also known as the *general linear model* (GLM). In this lesson, we will explore how categorical predictors can be used within multiple regression via the use of *dummy variables*. We will see how simple dummy variable models are equivalent to both the $t$-test and 1-way ANOVA. We will also examine the traditional ANOVA more closely and see how the ANOVA table is really a selection of *model comparisons*. Finally, we will examine the use of *multiple* categorical predictor variables within the framework of higher-order ANOVA models.\n",
    "\n",
    "## Contents\n",
    "\n",
    "```{tableofcontents}\n",
    "```\n",
    "\n",
    "## About the Authors\n",
    "</br>\n",
    "\n",
    "```{figure} images/martyn.jpeg\n",
    "---\n",
    "scale: 15%\n",
    "align: left\n",
    "---\n",
    "```\n",
    "\n",
    "**Dr Martyn McFarquhar | PhD FHEA**\n",
    "\n",
    "Lecturer in Neuroimaging\n",
    "\n",
    "4.33 Booth Street East | Division of Psychology, Communication and Human Neuroscience | School of Health Sciences | The University of Manchester M13 9PL\n",
    "\n",
    "t: +44 (0)161 275 2688 | e: [martyn.mcfarquhar@manchester.ac.uk](mailto:martyn.mcfarquhar@manchester.ac.uk)\n",
    "</br>\n",
    "</br>\n",
    "</br>\n",
    "</br>\n",
    "\n",
    "```{figure} images/george.jpg\n",
    "---\n",
    "scale: 80%\n",
    "align: right\n",
    "---\n",
    "```\n",
    "\n",
    "**Dr George Farmer | PhD**\n",
    "\n",
    "Lecturer \n",
    "\n",
    "... Dover Street Building | Division of Psychology, Communication and Human Neuroscience | School of Health Sciences | The University of Manchester M13 9PL\n",
    "\n",
    "t: +44 (0)161 275 ... | e: [george.farmer@manchester.ac.uk](mailto:george.farmer@manchester.ac.uk)"
   ]
  },
  {
   "cell_type": "markdown",
   "id": "31eba766",
   "metadata": {},
   "source": []
  }
 ],
 "metadata": {
  "kernelspec": {
   "display_name": "R",
   "language": "R",
   "name": "ir"
  },
  "language_info": {
   "codemirror_mode": "r",
   "file_extension": ".r",
   "mimetype": "text/x-r-source",
   "name": "R",
   "pygments_lexer": "r",
   "version": "4.3.3"
  }
 },
 "nbformat": 4,
 "nbformat_minor": 5
}
