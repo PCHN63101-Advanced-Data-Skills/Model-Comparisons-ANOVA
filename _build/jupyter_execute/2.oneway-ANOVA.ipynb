{
 "cells": [
  {
   "cell_type": "markdown",
   "id": "8a6b3fd6-1753-45e7-a920-fccf68cbdcac",
   "metadata": {},
   "source": [
    "# One-way ANOVA\n",
    "..."
   ]
  },
  {
   "cell_type": "markdown",
   "id": "a9e227ab",
   "metadata": {},
   "source": [
    "To begin with, we will redefine our `origin` variable to further split the `Other` category into `Japan` and `Europe`. We also convert this into a factor straight away and check the levels."
   ]
  },
  {
   "cell_type": "code",
   "execution_count": 8,
   "id": "72e4d460",
   "metadata": {
    "vscode": {
     "languageId": "r"
    }
   },
   "outputs": [
    {
     "name": "stdout",
     "output_type": "stream",
     "text": [
      "[1] \"Europe\" \"Japan\"  \"USA\"   \n"
     ]
    }
   ],
   "source": [
    "data(mtcars)\n",
    "mtcars$origin <- c('Japan','Japan','USA','USA','USA','USA','USA','Europe','Europe','Europe',\n",
    "                   'Europe','Europe','Europe','Europe','USA','USA','USA','Europe','Japan',\n",
    "                   'Japan','Japan','USA','USA','USA','USA','Europe','Europe','Europe',\n",
    "                   'USA','Europe','Europe','Europe')\n",
    "mtcars$origin <- as.factor(mtcars$origin)\n",
    "print(levels(mtcars$origin))"
   ]
  },
  {
   "cell_type": "markdown",
   "id": "f70afa43",
   "metadata": {},
   "source": [
    "The dataset now looks like this"
   ]
  },
  {
   "cell_type": "code",
   "execution_count": 5,
   "id": "f78a18db",
   "metadata": {
    "vscode": {
     "languageId": "r"
    }
   },
   "outputs": [
    {
     "name": "stdout",
     "output_type": "stream",
     "text": [
      "                     mpg cyl  disp  hp drat    wt  qsec vs am gear carb origin\n",
      "Mazda RX4           21.0   6 160.0 110 3.90 2.620 16.46  0  1    4    4  Japan\n",
      "Mazda RX4 Wag       21.0   6 160.0 110 3.90 2.875 17.02  0  1    4    4  Japan\n",
      "Datsun 710          22.8   4 108.0  93 3.85 2.320 18.61  1  1    4    1    USA\n",
      "Hornet 4 Drive      21.4   6 258.0 110 3.08 3.215 19.44  1  0    3    1    USA\n",
      "Hornet Sportabout   18.7   8 360.0 175 3.15 3.440 17.02  0  0    3    2    USA\n",
      "Valiant             18.1   6 225.0 105 2.76 3.460 20.22  1  0    3    1    USA\n",
      "Duster 360          14.3   8 360.0 245 3.21 3.570 15.84  0  0    3    4    USA\n",
      "Merc 240D           24.4   4 146.7  62 3.69 3.190 20.00  1  0    4    2 Europe\n",
      "Merc 230            22.8   4 140.8  95 3.92 3.150 22.90  1  0    4    2 Europe\n",
      "Merc 280            19.2   6 167.6 123 3.92 3.440 18.30  1  0    4    4 Europe\n",
      "Merc 280C           17.8   6 167.6 123 3.92 3.440 18.90  1  0    4    4 Europe\n",
      "Merc 450SE          16.4   8 275.8 180 3.07 4.070 17.40  0  0    3    3 Europe\n",
      "Merc 450SL          17.3   8 275.8 180 3.07 3.730 17.60  0  0    3    3 Europe\n",
      "Merc 450SLC         15.2   8 275.8 180 3.07 3.780 18.00  0  0    3    3 Europe\n",
      "Cadillac Fleetwood  10.4   8 472.0 205 2.93 5.250 17.98  0  0    3    4    USA\n",
      "Lincoln Continental 10.4   8 460.0 215 3.00 5.424 17.82  0  0    3    4    USA\n",
      "Chrysler Imperial   14.7   8 440.0 230 3.23 5.345 17.42  0  0    3    4    USA\n",
      "Fiat 128            32.4   4  78.7  66 4.08 2.200 19.47  1  1    4    1 Europe\n",
      "Honda Civic         30.4   4  75.7  52 4.93 1.615 18.52  1  1    4    2  Japan\n",
      "Toyota Corolla      33.9   4  71.1  65 4.22 1.835 19.90  1  1    4    1  Japan\n",
      "Toyota Corona       21.5   4 120.1  97 3.70 2.465 20.01  1  0    3    1  Japan\n",
      "Dodge Challenger    15.5   8 318.0 150 2.76 3.520 16.87  0  0    3    2    USA\n",
      "AMC Javelin         15.2   8 304.0 150 3.15 3.435 17.30  0  0    3    2    USA\n",
      "Camaro Z28          13.3   8 350.0 245 3.73 3.840 15.41  0  0    3    4    USA\n",
      "Pontiac Firebird    19.2   8 400.0 175 3.08 3.845 17.05  0  0    3    2    USA\n",
      "Fiat X1-9           27.3   4  79.0  66 4.08 1.935 18.90  1  1    4    1 Europe\n",
      "Porsche 914-2       26.0   4 120.3  91 4.43 2.140 16.70  0  1    5    2 Europe\n",
      "Lotus Europa        30.4   4  95.1 113 3.77 1.513 16.90  1  1    5    2 Europe\n",
      "Ford Pantera L      15.8   8 351.0 264 4.22 3.170 14.50  0  1    5    4    USA\n",
      "Ferrari Dino        19.7   6 145.0 175 3.62 2.770 15.50  0  1    5    6 Europe\n",
      "Maserati Bora       15.0   8 301.0 335 3.54 3.570 14.60  0  1    5    8 Europe\n",
      "Volvo 142E          21.4   4 121.0 109 4.11 2.780 18.60  1  1    4    2 Europe\n"
     ]
    }
   ],
   "source": [
    "print(mtcars)"
   ]
  },
  {
   "cell_type": "markdown",
   "id": "9eed0935",
   "metadata": {},
   "source": [
    "So let us now see how `R` has coded these catgories in terms of dummy variables"
   ]
  },
  {
   "cell_type": "code",
   "execution_count": 7,
   "id": "2d4de415",
   "metadata": {
    "vscode": {
     "languageId": "r"
    }
   },
   "outputs": [
    {
     "name": "stdout",
     "output_type": "stream",
     "text": [
      "       Japan USA\n",
      "Europe     0   0\n",
      "Japan      1   0\n",
      "USA        0   1\n"
     ]
    }
   ],
   "source": [
    "print(contrasts(mtcars$origin))"
   ]
  },
  {
   "cell_type": "markdown",
   "id": "c1568ce8",
   "metadata": {},
   "source": []
  }
 ],
 "metadata": {
  "kernelspec": {
   "display_name": "R",
   "language": "R",
   "name": "ir"
  },
  "language_info": {
   "codemirror_mode": "r",
   "file_extension": ".r",
   "mimetype": "text/x-r-source",
   "name": "R",
   "pygments_lexer": "r",
   "version": "4.5.0"
  }
 },
 "nbformat": 4,
 "nbformat_minor": 5
}