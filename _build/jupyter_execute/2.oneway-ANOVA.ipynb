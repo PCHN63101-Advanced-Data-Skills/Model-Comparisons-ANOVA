{
 "cells": [
  {
   "cell_type": "markdown",
   "id": "8a6b3fd6-1753-45e7-a920-fccf68cbdcac",
   "metadata": {},
   "source": [
    "# One-way ANOVA\n",
    "..."
   ]
  },
  {
   "cell_type": "markdown",
   "id": "f332e156",
   "metadata": {},
   "source": [
    "## One-way ANOVA as a Linear Model\n",
    "Although you may be used to thinking about an ANOVA as a table of hypothesis tests, in reality an ANOVA is a very basic linear model. In the case of a one-way ANOVA, there is only a *single* categorical predictor (hence the *one-way* name) with a certain number of levels. The ANOVA model is then\n",
    "\n",
    "$$\n",
    "y_{ij} = \\mu_{j} + \\epsilon_{ij},\n",
    "$$\n",
    "\n",
    "where $\\mu_{j}$ is simply the *group mean* for level $j$ of the predictor. For instance, say our categorical predictor had 3 levels ($j = 1,2,3$). The $i$ th observation from the first level would be denoted $y_{i1}$, the $i$ th observation from the second level would be denoted $y_{i2}$ and the $i$ th observation from the third level would be denoted $y_{i3}$. As such, this implies that there are 3 unique model predictors, once for each level of the predictor. So, when $j = 1,2,3$, we have\n",
    "\n",
    "$$\n",
    "\\begin{align*}\n",
    "    y_{i1} &= \\mu_{1} + \\epsilon_{i1} \\\\\n",
    "    y_{i2} &= \\mu_{2} + \\epsilon_{i2} \\\\\n",
    "    y_{i3} &= \\mu_{3} + \\epsilon_{i3}\n",
    "\\end{align*}\n",
    "$$\n",
    "\n",
    "This makes the model *very simple*. Every data point has a predicted value that is equal to the mean of the group that data point belongs to. The errors then reflect the differences between the group means and the raw data.\n",
    "\n",
    "### Two-sample $t$-test as a Special Case\n",
    "Notice that there is nothing in the definition above that states how many values $j$ should take. This is important because both the one-sample and two-sample $t$-tests are *sepecial cases* of the one-way ANOVA model given above. In the one-sample case, we set $j = 1$ and in the two-sample case we set $j = 1,2$. \n",
    "\n",
    "To see this more clearly, we know already that the dummy variable representation we used previously for the two-sample $t$-test creates *two* equations for the *two* different categories\n",
    "\n",
    "$$\n",
    "\\begin{align*}\n",
    "    E\\left(y_{i1}\\right) &= \\beta_{0} + \\left(\\beta_{1} \\times 0\\right) = \\beta_{0} \\\\\n",
    "    E\\left(y_{i2}\\right) &= \\beta_{0} + \\left(\\beta_{1} \\times 1\\right) = \\beta_{0} + \\beta_{1}\n",
    "\\end{align*}\n",
    "$$\n",
    "\n",
    "In other words, every data point from the first category gets a predicted value of $\\beta_{0}$ and every data point from the second category gets a predicted value of $\\beta_{0} + \\beta_{1}$. Putting this in the context of group means, we also know that $\\beta_{0} = \\mu_{1}$ and $\\beta_{1} = \\left(\\mu_{2} - \\mu_{1}\\right)$. If we substitute these values in to the regression equations above, we get\n",
    "\n",
    "$$\n",
    "\\begin{align*}\n",
    "    E\\left(y_{i1}\\right) &= \\mu_{1} \\\\\n",
    "    E\\left(y_{i2}\\right) &= \\mu_{1} + \\left(\\mu_{2} - \\mu_{1}\\right) = \\mu_{2}\n",
    "\\end{align*}\n",
    "$$\n",
    "\n",
    "Putting it all together, we get\n",
    "\n",
    "$$\n",
    "\\begin{align*}\n",
    "    y_{i1} &= \\beta_{0} + \\epsilon_{i1} &= \\mu_{1} + \\epsilon_{i1} \\\\\n",
    "    y_{i2} &= \\beta_{0} + \\beta_{1} + \\epsilon_{i2} &= \\mu_{2} + \\epsilon_{i2}\n",
    "\\end{align*}\n",
    "$$\n",
    "\n",
    "\n",
    "As such, the dummy variable representation in the regression model simplifies to the traditional linear model specification. In other words, we can turn a regression model into a model of the group means through the use of dummy variables. This also highlights that the one-sample $t$-test, two-sample $t$-test and one-way ANOVA are all just special cases of each other. If we set $j = 1$ we have a *one-sample $t$-test* (simply a regression model containing an intercept and nothing else), if we set $j = 1,2$ we have a *two-sample $t$-test*, and if we set $j = 1,2,\\dots,k$ we have a *one-way ANOVA*. Indeed, these different names are entirely unnecessary as they are all effectively *the same model*, just with different forms of dummy variables."
   ]
  },
  {
   "cell_type": "markdown",
   "id": "0194e6b3",
   "metadata": {},
   "source": [
    "## Dummy Variables Coding > 2 Levels\n",
    "... The short answer is that we simply *add more dummy variables*. Indeed, our general rule is that for $k$ levels of a predictor we need to add $k - 1$ dummy variables to the model. Notice that this fits with what we have already seen. For a two-sample $t$-test, $k = 2$ and we had to add $k - 1 = 2 - 1 = 1$ dummy variable to the model. If it were a one-sample $t$-test, we would have $k = 1$ and we would add $k - 1 = 1 - 1 = 0$ dummy variables to the model (because we only need an intercept). For the most basic one-way ANOVA case where $k = 3$, we therefore need to add $k - 1 = 3 - 1 = 2$ dummy variables to the model. Let us now see how this is done in `R`, before we discuss the theory in more detail.\n",
    "\n",
    "...\n",
    "\n",
    "This dummy variable representation then creates 3 equations for the 3 different categories\n",
    "\n",
    "$$\n",
    "\\begin{align*}\n",
    "    E\\left(y_{i1}\\right) &= \\beta_{0} + \\left(\\beta_{1} \\times 0\\right) + \\left(\\beta_{2} \\times 0\\right) = \\beta_{0} \\\\\n",
    "    E\\left(y_{i2}\\right) &= \\beta_{0} + \\left(\\beta_{1} \\times 1\\right) + \\left(\\beta_{2} \\times 0\\right) = \\beta_{0} + \\beta_{1} \\\\\n",
    "    E\\left(y_{i3}\\right) &= \\beta_{0} + \\left(\\beta_{1} \\times 0\\right) + \\left(\\beta_{2} \\times 1\\right) = \\beta_{0} + \\beta_{2} \n",
    "\\end{align*}\n",
    "$$\n",
    "\n",
    "If we now take that $\\beta_{0} = \\mu_{1}$, $\\beta_{1} = \\left(\\mu_{2} - \\mu_{1}\\right)$ and $\\beta_{2} = \\left(\\mu_{3} - \\mu_{1}\\right)$, we can substitute these values in and we get\n",
    "\n",
    "$$\n",
    "\\begin{align*}\n",
    "    E\\left(y_{i1}\\right) &= \\mu_{1} \\\\\n",
    "    E\\left(y_{i2}\\right) &= \\mu_{1} + \\left(\\mu_{2} - \\mu_{1}\\right) = \\mu_{2} \\\\\n",
    "    E\\left(y_{i3}\\right) &= \\mu_{1} + \\left(\\mu_{3} - \\mu_{1}\\right) = \\mu_{3}\n",
    "\\end{align*}\n",
    "$$"
   ]
  },
  {
   "cell_type": "markdown",
   "id": "a9e227ab",
   "metadata": {},
   "source": [
    "To begin with, we will redefine our `origin` variable to further split the `Other` category into `Japan` and `Europe`. We also convert this into a factor straight away and check the levels."
   ]
  },
  {
   "cell_type": "code",
   "execution_count": 1,
   "id": "72e4d460",
   "metadata": {
    "vscode": {
     "languageId": "r"
    }
   },
   "outputs": [
    {
     "name": "stdout",
     "output_type": "stream",
     "text": [
      "[1] \"Europe\" \"Japan\"  \"USA\"   \n"
     ]
    }
   ],
   "source": [
    "data(mtcars)\n",
    "mtcars$origin <- c('Japan','Japan','USA','USA','USA','USA','USA','Europe','Europe','Europe',\n",
    "                   'Europe','Europe','Europe','Europe','USA','USA','USA','Europe','Japan',\n",
    "                   'Japan','Japan','USA','USA','USA','USA','Europe','Europe','Europe',\n",
    "                   'USA','Europe','Europe','Europe')\n",
    "mtcars$origin <- as.factor(mtcars$origin)\n",
    "print(levels(mtcars$origin))"
   ]
  },
  {
   "cell_type": "markdown",
   "id": "f70afa43",
   "metadata": {},
   "source": [
    "The dataset now looks like this"
   ]
  },
  {
   "cell_type": "code",
   "execution_count": 2,
   "id": "f78a18db",
   "metadata": {
    "vscode": {
     "languageId": "r"
    }
   },
   "outputs": [
    {
     "name": "stdout",
     "output_type": "stream",
     "text": [
      "                     mpg cyl  disp  hp drat    wt  qsec vs am gear carb origin\n",
      "Mazda RX4           21.0   6 160.0 110 3.90 2.620 16.46  0  1    4    4  Japan\n",
      "Mazda RX4 Wag       21.0   6 160.0 110 3.90 2.875 17.02  0  1    4    4  Japan\n",
      "Datsun 710          22.8   4 108.0  93 3.85 2.320 18.61  1  1    4    1    USA\n",
      "Hornet 4 Drive      21.4   6 258.0 110 3.08 3.215 19.44  1  0    3    1    USA\n",
      "Hornet Sportabout   18.7   8 360.0 175 3.15 3.440 17.02  0  0    3    2    USA\n",
      "Valiant             18.1   6 225.0 105 2.76 3.460 20.22  1  0    3    1    USA\n",
      "Duster 360          14.3   8 360.0 245 3.21 3.570 15.84  0  0    3    4    USA\n",
      "Merc 240D           24.4   4 146.7  62 3.69 3.190 20.00  1  0    4    2 Europe\n",
      "Merc 230            22.8   4 140.8  95 3.92 3.150 22.90  1  0    4    2 Europe\n",
      "Merc 280            19.2   6 167.6 123 3.92 3.440 18.30  1  0    4    4 Europe\n",
      "Merc 280C           17.8   6 167.6 123 3.92 3.440 18.90  1  0    4    4 Europe\n",
      "Merc 450SE          16.4   8 275.8 180 3.07 4.070 17.40  0  0    3    3 Europe\n",
      "Merc 450SL          17.3   8 275.8 180 3.07 3.730 17.60  0  0    3    3 Europe\n",
      "Merc 450SLC         15.2   8 275.8 180 3.07 3.780 18.00  0  0    3    3 Europe\n",
      "Cadillac Fleetwood  10.4   8 472.0 205 2.93 5.250 17.98  0  0    3    4    USA\n",
      "Lincoln Continental 10.4   8 460.0 215 3.00 5.424 17.82  0  0    3    4    USA\n",
      "Chrysler Imperial   14.7   8 440.0 230 3.23 5.345 17.42  0  0    3    4    USA\n",
      "Fiat 128            32.4   4  78.7  66 4.08 2.200 19.47  1  1    4    1 Europe\n",
      "Honda Civic         30.4   4  75.7  52 4.93 1.615 18.52  1  1    4    2  Japan\n",
      "Toyota Corolla      33.9   4  71.1  65 4.22 1.835 19.90  1  1    4    1  Japan\n",
      "Toyota Corona       21.5   4 120.1  97 3.70 2.465 20.01  1  0    3    1  Japan\n",
      "Dodge Challenger    15.5   8 318.0 150 2.76 3.520 16.87  0  0    3    2    USA\n",
      "AMC Javelin         15.2   8 304.0 150 3.15 3.435 17.30  0  0    3    2    USA\n",
      "Camaro Z28          13.3   8 350.0 245 3.73 3.840 15.41  0  0    3    4    USA\n",
      "Pontiac Firebird    19.2   8 400.0 175 3.08 3.845 17.05  0  0    3    2    USA\n",
      "Fiat X1-9           27.3   4  79.0  66 4.08 1.935 18.90  1  1    4    1 Europe\n",
      "Porsche 914-2       26.0   4 120.3  91 4.43 2.140 16.70  0  1    5    2 Europe\n",
      "Lotus Europa        30.4   4  95.1 113 3.77 1.513 16.90  1  1    5    2 Europe\n",
      "Ford Pantera L      15.8   8 351.0 264 4.22 3.170 14.50  0  1    5    4    USA\n",
      "Ferrari Dino        19.7   6 145.0 175 3.62 2.770 15.50  0  1    5    6 Europe\n",
      "Maserati Bora       15.0   8 301.0 335 3.54 3.570 14.60  0  1    5    8 Europe\n",
      "Volvo 142E          21.4   4 121.0 109 4.11 2.780 18.60  1  1    4    2 Europe\n"
     ]
    }
   ],
   "source": [
    "print(mtcars)"
   ]
  },
  {
   "cell_type": "markdown",
   "id": "9eed0935",
   "metadata": {},
   "source": [
    "So let us now see how `R` has coded these catgories in terms of dummy variables"
   ]
  },
  {
   "cell_type": "code",
   "execution_count": 3,
   "id": "2d4de415",
   "metadata": {
    "vscode": {
     "languageId": "r"
    }
   },
   "outputs": [
    {
     "name": "stdout",
     "output_type": "stream",
     "text": [
      "       Japan USA\n",
      "Europe     0   0\n",
      "Japan      1   0\n",
      "USA        0   1\n"
     ]
    }
   ],
   "source": [
    "print(contrasts(mtcars$origin))"
   ]
  },
  {
   "cell_type": "markdown",
   "id": "c1568ce8",
   "metadata": {},
   "source": [
    "Looking at each row given above, we can summise that\n",
    "\n",
    "$$\n",
    "\\begin{align*}\n",
    "    \\mu_{\\text{Europe}} &= \\beta_{0} + (\\beta_{1} \\times \\mathbf{0}) + (\\beta_{2} \\times \\mathbf{0}) = \\beta_{0} \\\\\n",
    "    \\mu_{\\text{Japan}}  &= \\beta_{0} + (\\beta_{1} \\times \\mathbf{1}) + (\\beta_{2} \\times \\mathbf{0}) = \\beta_{0} + \\beta_{1} \\\\\n",
    "    \\mu_{\\text{USA}}    &= \\beta_{0} + (\\beta_{1} \\times \\mathbf{0}) + (\\beta_{2} \\times \\mathbf{1}) = \\beta_{0} + \\beta_{2} \\\\\n",
    "\\end{align*}\n",
    "$$"
   ]
  },
  {
   "cell_type": "code",
   "execution_count": 4,
   "id": "8f77ec13",
   "metadata": {
    "vscode": {
     "languageId": "r"
    }
   },
   "outputs": [
    {
     "data": {
      "text/plain": [
       "\n",
       "Call:\n",
       "lm(formula = mpg ~ origin, data = mtcars)\n",
       "\n",
       "Residuals:\n",
       "    Min      1Q  Median      3Q     Max \n",
       "-6.8071 -4.1718 -0.7885  3.3444 10.5929 \n",
       "\n",
       "Coefficients:\n",
       "            Estimate Std. Error t value Pr(>|t|)    \n",
       "(Intercept)   21.807      1.343  16.239 4.26e-16 ***\n",
       "originJapan    3.753      2.618   1.434  0.16238    \n",
       "originUSA     -5.669      1.935  -2.929  0.00656 ** \n",
       "---\n",
       "Signif. codes:  0 ‘***’ 0.001 ‘**’ 0.01 ‘*’ 0.05 ‘.’ 0.1 ‘ ’ 1\n",
       "\n",
       "Residual standard error: 5.025 on 29 degrees of freedom\n",
       "Multiple R-squared:  0.3498,\tAdjusted R-squared:  0.3049 \n",
       "F-statistic:   7.8 on 2 and 29 DF,  p-value: 0.001947\n"
      ]
     },
     "metadata": {},
     "output_type": "display_data"
    }
   ],
   "source": [
    "origin.mod <- lm(mpg ~ origin, data=mtcars)\n",
    "summary(origin.mod)"
   ]
  },
  {
   "cell_type": "markdown",
   "id": "49d64f7c",
   "metadata": {},
   "source": [
    "... We can also see that the predicted values from this model are simply the group means for each level of `origin`"
   ]
  },
  {
   "cell_type": "code",
   "execution_count": 5,
   "id": "79b44d22",
   "metadata": {
    "vscode": {
     "languageId": "r"
    }
   },
   "outputs": [
    {
     "name": "stdout",
     "output_type": "stream",
     "text": [
      "                    Predicted Origin\n",
      "Mazda RX4            25.56000  Japan\n",
      "Mazda RX4 Wag        25.56000  Japan\n",
      "Datsun 710           16.13846    USA\n",
      "Hornet 4 Drive       16.13846    USA\n",
      "Hornet Sportabout    16.13846    USA\n",
      "Valiant              16.13846    USA\n",
      "Duster 360           16.13846    USA\n",
      "Merc 240D            21.80714 Europe\n",
      "Merc 230             21.80714 Europe\n",
      "Merc 280             21.80714 Europe\n",
      "Merc 280C            21.80714 Europe\n",
      "Merc 450SE           21.80714 Europe\n",
      "Merc 450SL           21.80714 Europe\n",
      "Merc 450SLC          21.80714 Europe\n",
      "Cadillac Fleetwood   16.13846    USA\n",
      "Lincoln Continental  16.13846    USA\n",
      "Chrysler Imperial    16.13846    USA\n",
      "Fiat 128             21.80714 Europe\n",
      "Honda Civic          25.56000  Japan\n",
      "Toyota Corolla       25.56000  Japan\n",
      "Toyota Corona        25.56000  Japan\n",
      "Dodge Challenger     16.13846    USA\n",
      "AMC Javelin          16.13846    USA\n",
      "Camaro Z28           16.13846    USA\n",
      "Pontiac Firebird     16.13846    USA\n",
      "Fiat X1-9            21.80714 Europe\n",
      "Porsche 914-2        21.80714 Europe\n",
      "Lotus Europa         21.80714 Europe\n",
      "Ford Pantera L       16.13846    USA\n",
      "Ferrari Dino         21.80714 Europe\n",
      "Maserati Bora        21.80714 Europe\n",
      "Volvo 142E           21.80714 Europe\n"
     ]
    }
   ],
   "source": [
    "print(data.frame(\"Predicted\" = fitted(origin.mod),\n",
    "                 \"Origin\"    = mtcars$origin))"
   ]
  },
  {
   "cell_type": "markdown",
   "id": "3cf280f4",
   "metadata": {},
   "source": [
    "So, $\\mu_{\\text{EUR}} = 21.81$, $\\mu_{\\text{JAP}} = 25.56$ and $\\mu_{\\text{USA}} = 16.14$. Which we can, of course, recover from the parameter estimates using the equalities derived above"
   ]
  },
  {
   "cell_type": "code",
   "execution_count": 6,
   "id": "b69a916b",
   "metadata": {
    "vscode": {
     "languageId": "r"
    }
   },
   "outputs": [
    {
     "name": "stdout",
     "output_type": "stream",
     "text": [
      "     EUR      JAP      USA \n",
      "21.80714 25.56000 16.13846 \n"
     ]
    }
   ],
   "source": [
    "beta   <- coef(origin.mod)\n",
    "mu.EUR <- beta[1]                   # beta0\n",
    "mu.JAP <- beta[1] + beta[2]         # beta0 + beta1\n",
    "mu.USA <- beta[1] + beta[3]         # beta0 + beta2\n",
    "means  <- c(mu.EUR, mu.JAP, mu.USA)\n",
    "\n",
    "names(means) <- c(\"EUR\",\"JAP\",\"USA\")\n",
    "print(means)"
   ]
  },
  {
   "cell_type": "markdown",
   "id": "9f3c72d3",
   "metadata": {},
   "source": [
    "We can also more easily do this using the `effects` package, which is generally an approch we would advocate, especially in the presence of much more complex models."
   ]
  },
  {
   "cell_type": "code",
   "execution_count": 13,
   "id": "9ec77528",
   "metadata": {
    "vscode": {
     "languageId": "r"
    }
   },
   "outputs": [
    {
     "name": "stdout",
     "output_type": "stream",
     "text": [
      " model: mpg ~ origin\n",
      "\n",
      " origin effect\n",
      "origin\n",
      "  Europe    Japan      USA \n",
      "21.80714 25.56000 16.13846 \n"
     ]
    }
   ],
   "source": [
    "library(effects)\n",
    "effs <- allEffects(origin.mod, residuals=TRUE)\n",
    "print(effs)"
   ]
  },
  {
   "cell_type": "markdown",
   "id": "93c48cab",
   "metadata": {},
   "source": [
    "Which, of course, we can then plot"
   ]
  },
  {
   "cell_type": "code",
   "execution_count": 15,
   "id": "caf901d9",
   "metadata": {
    "vscode": {
     "languageId": "r"
    }
   },
   "outputs": [
    {
     "data": {
      "image/png": "[encoded data removed]",
      "text/plain": [
       "plot without title"
      ]
     },
     "metadata": {
      "image/png": {
       "height": 420,
       "width": 420
      }
     },
     "output_type": "display_data"
    }
   ],
   "source": [
    "plot(effs, partial.residuals=list(smooth=FALSE))"
   ]
  },
  {
   "cell_type": "markdown",
   "id": "730bdfdb",
   "metadata": {},
   "source": [
    "This is interesting because we can see that there is quite a wide-range of MPGs within the `Europe` category, as well as an apparent dichotomisation of cars within the `Japan` category. This is likely because we have mixed together low-MPG sports cars with high-MPG non-sports cars within those groups. This suggests that an additional categorical variable denoting the *type* of car could be useful in explaining the variance in the data.  "
   ]
  },
  {
   "cell_type": "code",
   "execution_count": null,
   "id": "4ec1e8b0",
   "metadata": {
    "vscode": {
     "languageId": "r"
    }
   },
   "outputs": [],
   "source": []
  }
 ],
 "metadata": {
  "kernelspec": {
   "display_name": "R",
   "language": "R",
   "name": "ir"
  },
  "language_info": {
   "codemirror_mode": "r",
   "file_extension": ".r",
   "mimetype": "text/x-r-source",
   "name": "R",
   "pygments_lexer": "r",
   "version": "4.5.0"
  }
 },
 "nbformat": 4,
 "nbformat_minor": 5
}