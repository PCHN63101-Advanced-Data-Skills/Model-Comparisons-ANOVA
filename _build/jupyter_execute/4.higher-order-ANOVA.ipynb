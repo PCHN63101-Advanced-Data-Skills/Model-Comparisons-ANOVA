{
 "cells": [
  {
   "cell_type": "markdown",
   "id": "8a6b3fd6-1753-45e7-a920-fccf68cbdcac",
   "metadata": {},
   "source": [
    "# Higher-order ANOVA Models\n",
    "..."
   ]
  },
  {
   "cell_type": "markdown",
   "id": "2420f97b",
   "metadata": {},
   "source": [
    "## Main Effects"
   ]
  },
  {
   "cell_type": "markdown",
   "id": "2c1f3651",
   "metadata": {},
   "source": [
    "## Interaction Effects"
   ]
  },
  {
   "cell_type": "markdown",
   "id": "995f58bf",
   "metadata": {},
   "source": [
    "## Follow-up Tests"
   ]
  },
  {
   "cell_type": "markdown",
   "id": "fff0350e",
   "metadata": {},
   "source": [
    "### Planned vs Post-hoc Tests\n",
    "... Beware of this reasoning. Although planned tests are more *credible* in the sense that you are not $p$-hacking, this does not change anything about the error rate. The error does not magically know what your intentions were and then change itself. The error rate is a fact of multiple testing that does not change with intent. As such, even if you have pre-specified tests, you still need to control for multiple comparisons."
   ]
  },
  {
   "cell_type": "markdown",
   "id": "5bdf905e",
   "metadata": {},
   "source": []
  }
 ],
 "metadata": {
  "kernelspec": {
   "display_name": "R",
   "language": "R",
   "name": "ir"
  },
  "language_info": {
   "codemirror_mode": "r",
   "file_extension": ".r",
   "mimetype": "text/x-r-source",
   "name": "R",
   "pygments_lexer": "r",
   "version": "4.5.0"
  }
 },
 "nbformat": 4,
 "nbformat_minor": 5
}