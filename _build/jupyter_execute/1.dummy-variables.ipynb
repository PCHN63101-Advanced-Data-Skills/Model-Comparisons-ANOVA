{
 "cells": [
  {
   "cell_type": "markdown",
   "id": "8a6b3fd6-1753-45e7-a920-fccf68cbdcac",
   "metadata": {},
   "source": [
    "# Dummy Variable Regression\n",
    "..."
   ]
  },
  {
   "cell_type": "markdown",
   "id": "72b5540b",
   "metadata": {},
   "source": [
    "## Dummy Variables"
   ]
  },
  {
   "cell_type": "markdown",
   "id": "900a79fb",
   "metadata": {},
   "source": [
    "## The $t$-Test as a Regression Model"
   ]
  },
  {
   "cell_type": "markdown",
   "id": "da78645d",
   "metadata": {},
   "source": [
    "## Different Coding Schemes"
   ]
  },
  {
   "cell_type": "markdown",
   "id": "28022af4",
   "metadata": {},
   "source": []
  }
 ],
 "metadata": {
  "kernelspec": {
   "display_name": "R",
   "language": "R",
   "name": "ir"
  },
  "language_info": {
   "codemirror_mode": "r",
   "file_extension": ".r",
   "mimetype": "text/x-r-source",
   "name": "R",
   "pygments_lexer": "r",
   "version": "4.5.0"
  }
 },
 "nbformat": 4,
 "nbformat_minor": 5
}