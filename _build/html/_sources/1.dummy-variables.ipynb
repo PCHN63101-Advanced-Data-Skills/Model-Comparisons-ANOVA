{
 "cells": [
  {
   "cell_type": "markdown",
   "id": "8a6b3fd6-1753-45e7-a920-fccf68cbdcac",
   "metadata": {},
   "source": [
    "# Dummy Variable Regression\n",
    "Our starting point for understanding the use of categorical predictors in multiple regression is to discuss *how* this is achieved via *dummy variables*. Once we have established the theory of dummy variables, we will be able to see how the humble $t$-test can be reinterpreted as a regression model. This is then the starting point for understanding how one-way ANOVA, factorial ANOVA and ANCOVA models can all be subsumed under this single framework."
   ]
  },
  {
   "cell_type": "markdown",
   "id": "72b5540b",
   "metadata": {},
   "source": [
    "## Dummy Variables\n",
    "In order to integrate a categorical variable into a regression model, we use what is known as a *dummy variable*. This is a new variable that we insert into the regression model that only has values of '0' or '1'. As an example, let us return to the `mtcars` dataset and create a new categorical variable that indicates whether a car was manufactured in the USA or somewhere else in the world."
   ]
  },
  {
   "cell_type": "code",
   "execution_count": 15,
   "id": "b26fe461",
   "metadata": {
    "vscode": {
     "languageId": "r"
    }
   },
   "outputs": [
    {
     "name": "stdout",
     "output_type": "stream",
     "text": [
      "                     mpg cyl  disp  hp drat    wt  qsec vs am gear carb origin\n",
      "Mazda RX4           21.0   6 160.0 110 3.90 2.620 16.46  0  1    4    4  Other\n",
      "Mazda RX4 Wag       21.0   6 160.0 110 3.90 2.875 17.02  0  1    4    4  Other\n",
      "Datsun 710          22.8   4 108.0  93 3.85 2.320 18.61  1  1    4    1    USA\n",
      "Hornet 4 Drive      21.4   6 258.0 110 3.08 3.215 19.44  1  0    3    1    USA\n",
      "Hornet Sportabout   18.7   8 360.0 175 3.15 3.440 17.02  0  0    3    2    USA\n",
      "Valiant             18.1   6 225.0 105 2.76 3.460 20.22  1  0    3    1    USA\n",
      "Duster 360          14.3   8 360.0 245 3.21 3.570 15.84  0  0    3    4    USA\n",
      "Merc 240D           24.4   4 146.7  62 3.69 3.190 20.00  1  0    4    2  Other\n",
      "Merc 230            22.8   4 140.8  95 3.92 3.150 22.90  1  0    4    2  Other\n",
      "Merc 280            19.2   6 167.6 123 3.92 3.440 18.30  1  0    4    4  Other\n",
      "Merc 280C           17.8   6 167.6 123 3.92 3.440 18.90  1  0    4    4  Other\n",
      "Merc 450SE          16.4   8 275.8 180 3.07 4.070 17.40  0  0    3    3  Other\n",
      "Merc 450SL          17.3   8 275.8 180 3.07 3.730 17.60  0  0    3    3  Other\n",
      "Merc 450SLC         15.2   8 275.8 180 3.07 3.780 18.00  0  0    3    3  Other\n",
      "Cadillac Fleetwood  10.4   8 472.0 205 2.93 5.250 17.98  0  0    3    4    USA\n",
      "Lincoln Continental 10.4   8 460.0 215 3.00 5.424 17.82  0  0    3    4    USA\n",
      "Chrysler Imperial   14.7   8 440.0 230 3.23 5.345 17.42  0  0    3    4    USA\n",
      "Fiat 128            32.4   4  78.7  66 4.08 2.200 19.47  1  1    4    1  Other\n",
      "Honda Civic         30.4   4  75.7  52 4.93 1.615 18.52  1  1    4    2  Other\n",
      "Toyota Corolla      33.9   4  71.1  65 4.22 1.835 19.90  1  1    4    1  Other\n",
      "Toyota Corona       21.5   4 120.1  97 3.70 2.465 20.01  1  0    3    1  Other\n",
      "Dodge Challenger    15.5   8 318.0 150 2.76 3.520 16.87  0  0    3    2    USA\n",
      "AMC Javelin         15.2   8 304.0 150 3.15 3.435 17.30  0  0    3    2    USA\n",
      "Camaro Z28          13.3   8 350.0 245 3.73 3.840 15.41  0  0    3    4    USA\n",
      "Pontiac Firebird    19.2   8 400.0 175 3.08 3.845 17.05  0  0    3    2    USA\n",
      "Fiat X1-9           27.3   4  79.0  66 4.08 1.935 18.90  1  1    4    1  Other\n",
      "Porsche 914-2       26.0   4 120.3  91 4.43 2.140 16.70  0  1    5    2  Other\n",
      "Lotus Europa        30.4   4  95.1 113 3.77 1.513 16.90  1  1    5    2  Other\n",
      "Ford Pantera L      15.8   8 351.0 264 4.22 3.170 14.50  0  1    5    4  Other\n",
      "Ferrari Dino        19.7   6 145.0 175 3.62 2.770 15.50  0  1    5    6  Other\n",
      "Maserati Bora       15.0   8 301.0 335 3.54 3.570 14.60  0  1    5    8  Other\n",
      "Volvo 142E          21.4   4 121.0 109 4.11 2.780 18.60  1  1    4    2  Other\n"
     ]
    }
   ],
   "source": [
    "data(mtcars)\n",
    "mtcars$origin <- c('Other','Other','USA','USA','USA','USA','USA','Other','Other','Other',\n",
    "                   'Other','Other','Other','Other','USA','USA','USA','Other','Other',\n",
    "                   'Other','Other','USA','USA','USA','USA','Other','Other','Other',\n",
    "                   'Other','Other','Other','Other')\n",
    "\n",
    "print(mtcars)"
   ]
  },
  {
   "cell_type": "markdown",
   "id": "5221d092",
   "metadata": {},
   "source": [
    "In order to turn this variable into a dummy variable, we could assign a value of 0 to the `Other` category and a value of 1 to the `USA` category. This gives us the following coding scheme \n",
    "\n",
    "| Category | Dummy Value |\n",
    "| -------- | ----------- |\n",
    "| Other    | 0           |\n",
    "| USA      | 1           |\n",
    "\n",
    "### Manual Dummy Vartiables\n",
    "\n",
    "Althouh not necessary to make dummy variables manually (because `R` will do this automatically for you), it can be instructive to do so at this stage to help your understanding. In this example, we want a new variable containing the dummmy values associated with the `origin` variable. For instance"
   ]
  },
  {
   "cell_type": "code",
   "execution_count": 14,
   "id": "a39345fc",
   "metadata": {
    "vscode": {
     "languageId": "r"
    }
   },
   "outputs": [
    {
     "name": "stdout",
     "output_type": "stream",
     "text": [
      " [1] 0 0 1 1 1 1 1 0 0 0 0 0 0 0 1 1 1 0 0 0 0 1 1 1 1 0 0 0 0 0 0 0\n"
     ]
    }
   ],
   "source": [
    "# Create empty variable \n",
    "n          <- length(mtcars$origin)\n",
    "origin.dum <- numeric(n)\n",
    "\n",
    "# Assign dummy values\n",
    "origin.dum[mtcars$origin == 'Other'] <- 0\n",
    "origin.dum[mtcars$origin == 'USA']   <- 1\n",
    "\n",
    "# Print\n",
    "print(origin.dum)"
   ]
  },
  {
   "cell_type": "markdown",
   "id": "e2e3e1f9",
   "metadata": {},
   "source": [
    "So what happens if we put this dummy variable into a regression model? ..."
   ]
  },
  {
   "cell_type": "markdown",
   "id": "a9198e78",
   "metadata": {},
   "source": [
    "### Automatic Dummy Variables\n",
    "To make sure `R` understands that this is a categorical variable, we should always make sure that we transform it into a class of `factor`. This will then give us scope to rearrange the levels and do other manipulations, rather than `R` treating this as a string variable. "
   ]
  },
  {
   "cell_type": "code",
   "execution_count": 8,
   "id": "92c7fb8e",
   "metadata": {
    "vscode": {
     "languageId": "r"
    }
   },
   "outputs": [],
   "source": [
    "mtcars$origin <- as.factor(mtcars$origin)"
   ]
  },
  {
   "cell_type": "code",
   "execution_count": 9,
   "id": "01b94c2d",
   "metadata": {
    "vscode": {
     "languageId": "r"
    }
   },
   "outputs": [
    {
     "data": {
      "text/plain": [
       "\n",
       "Call:\n",
       "lm(formula = mpg ~ origin, data = mtcars)\n",
       "\n",
       "Residuals:\n",
       "   Min     1Q Median     3Q    Max \n",
       "-7.445 -3.595 -1.006  3.164 11.455 \n",
       "\n",
       "Coefficients:\n",
       "            Estimate Std. Error t value Pr(>|t|)    \n",
       "(Intercept)   22.445      1.176  19.079  < 2e-16 ***\n",
       "originUSA     -6.278      1.921  -3.268  0.00272 ** \n",
       "---\n",
       "Signif. codes:  0 ‘***’ 0.001 ‘**’ 0.01 ‘*’ 0.05 ‘.’ 0.1 ‘ ’ 1\n",
       "\n",
       "Residual standard error: 5.261 on 30 degrees of freedom\n",
       "Multiple R-squared:  0.2625,\tAdjusted R-squared:  0.238 \n",
       "F-statistic: 10.68 on 1 and 30 DF,  p-value: 0.002716\n"
      ]
     },
     "metadata": {},
     "output_type": "display_data"
    }
   ],
   "source": [
    "dummy.mod <- lm(mpg ~ origin, data=mtcars)\n",
    "summary(dummy.mod)"
   ]
  },
  {
   "cell_type": "markdown",
   "id": "900a79fb",
   "metadata": {},
   "source": [
    "## The $t$-Test as a Regression Model"
   ]
  },
  {
   "cell_type": "markdown",
   "id": "da78645d",
   "metadata": {},
   "source": [
    "## Different Coding Schemes"
   ]
  },
  {
   "cell_type": "markdown",
   "id": "28022af4",
   "metadata": {},
   "source": [
    "Strictly speaking, dummy variables are indicator variables with a value of either 0 or 1. But in practice, we often use the term more loosely to mean any coded variable that stands in for categories. This opens up the possibility for different coding schemes that changes the interpretation of the model parameters."
   ]
  },
  {
   "cell_type": "markdown",
   "id": "4dae2232",
   "metadata": {},
   "source": []
  }
 ],
 "metadata": {
  "kernelspec": {
   "display_name": "R",
   "language": "R",
   "name": "ir"
  },
  "language_info": {
   "codemirror_mode": "r",
   "file_extension": ".r",
   "mimetype": "text/x-r-source",
   "name": "R",
   "pygments_lexer": "r",
   "version": "4.5.0"
  }
 },
 "nbformat": 4,
 "nbformat_minor": 5
}
