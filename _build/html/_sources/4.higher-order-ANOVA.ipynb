{
 "cells": [
  {
   "cell_type": "markdown",
   "id": "8a6b3fd6-1753-45e7-a920-fccf68cbdcac",
   "metadata": {},
   "source": [
    "# Higher-order ANOVA Models\n"
   ]
  },
  {
   "cell_type": "markdown",
   "id": "48c48fa9",
   "metadata": {},
   "source": [
    "## The Higher-order ANOVA Framework\n",
    "\n",
    "### Terminology and Mean Tables\n",
    "\n",
    "### Cell Means and Marginal Means"
   ]
  },
  {
   "cell_type": "markdown",
   "id": "0a1f7571",
   "metadata": {},
   "source": [
    "\n",
    "```{admonition} Higher-order terminology\n",
    ":class: tip\n",
    "... For instance, the most basic higher-order ANOVA is the two-way ANOVA, that contains two factors. IF each factor had two levels, we would write this as a $2 \\times 2$ ANOVA. If the second factor had three levels, we would call it a $2 \\times 3$ ANOVA. If there were *three* factors, we would have a three-way ANOVA. If each factor had two levels we could call it a $2 \\times 2 \\times 2$ ANOVA, and so on.\n",
    "```"
   ]
  },
  {
   "cell_type": "markdown",
   "id": "313fa1a9",
   "metadata": {},
   "source": [
    "## Adding Another Factor - The Additive Model\n",
    "Let us start with the most simple approach, which is to simply add an additional factor to the model. In terms of notation, this is a simple extension of what we already known\n",
    "\n",
    "$$\n",
    "y_{ijk} = \\mu + \\alpha_{i} + \\beta_{j} + \\epsilon_{ijk},\n",
    "$$\n",
    "\n",
    "where $\\alpha_{i}$ is the effect associated with Factor A and $\\beta_{j}$ is the effect associated with Factor B. The simplest form of this model would be one that represents a $2 \\times 2$ design, with $i = 1,2$ and $j = 1,2$.\n",
    "\n",
    "As an example, let us expand our `mtcars` example with an addition categorical predictor. Within `mtcars` there already exists a factor called `vs` which indicates whether the engine is V-shaped or straight. This is already coded as a dummy variable, but we will label it so that it is clearer what it means before turning it into a factor."
   ]
  },
  {
   "cell_type": "code",
   "execution_count": 11,
   "id": "2f7e14d2",
   "metadata": {
    "vscode": {
     "languageId": "r"
    }
   },
   "outputs": [],
   "source": [
    "data(mtcars)\n",
    "mtcars$origin <- c('Other','Other','USA','USA','USA','USA','USA','Other','Other','Other',\n",
    "                   'Other','Other','Other','Other','USA','USA','USA','Other','Other',\n",
    "                   'Other','Other','USA','USA','USA','USA','Other','Other','Other',\n",
    "                   'USA','Other','Other','Other')\n",
    "mtcars$origin <- as.factor(mtcars$origin)"
   ]
  },
  {
   "cell_type": "code",
   "execution_count": 12,
   "id": "37f4dcad",
   "metadata": {
    "vscode": {
     "languageId": "r"
    }
   },
   "outputs": [
    {
     "name": "stdout",
     "output_type": "stream",
     "text": [
      "[1] \"straight\" \"v-shaped\"\n"
     ]
    }
   ],
   "source": [
    "vs.lab <- rep(\"\",length(mtcars$mpg)) \n",
    "vs.lab[mtcars$vs == 0] <- \"v-shaped\"\n",
    "vs.lab[mtcars$vs == 1] <- \"straight\"\n",
    "\n",
    "mtcars$vs <- vs.lab\n",
    "mtcars$vs <- as.factor(mtcars$vs)\n",
    "print(levels(mtcars$vs))"
   ]
  },
  {
   "cell_type": "markdown",
   "id": "600075be",
   "metadata": {},
   "source": [
    "We can now see how both `vs` and `origin` are coded."
   ]
  },
  {
   "cell_type": "code",
   "execution_count": 18,
   "id": "a7d80faf",
   "metadata": {
    "vscode": {
     "languageId": "r"
    }
   },
   "outputs": [
    {
     "name": "stdout",
     "output_type": "stream",
     "text": [
      "      USA\n",
      "Other   0\n",
      "USA     1\n",
      "         v-shaped\n",
      "straight        0\n",
      "v-shaped        1\n"
     ]
    }
   ],
   "source": [
    "print(contrasts(mtcars$origin))\n",
    "print(contrasts(mtcars$vs))"
   ]
  },
  {
   "cell_type": "markdown",
   "id": "49876b0c",
   "metadata": {},
   "source": [
    "$$\n",
    "\\begin{align*}\n",
    "    \\mu_{\\text{Other,Straight}} &= \\beta_{0} + (\\beta_{1} \\times \\mathbf{0}) + (\\beta_{2} \\times \\mathbf{0}) = \\beta_{0} \\\\\n",
    "    \\mu_{\\text{USA,Straight}}   &= \\beta_{0} + (\\beta_{1} \\times \\mathbf{1}) + (\\beta_{2} \\times \\mathbf{0}) = \\beta_{0} + \\beta_{1} \\\\\n",
    "    \\mu_{\\text{Other,V-shaped}} &= \\beta_{0} + (\\beta_{1} \\times \\mathbf{0}) + (\\beta_{2} \\times \\mathbf{1}) = \\beta_{0} + \\beta_{2} \\\\\n",
    "    \\mu_{\\text{USA,V-shaped}}   &= \\beta_{0} + (\\beta_{1} \\times \\mathbf{1}) + (\\beta_{2} \\times \\mathbf{1}) = \\beta_{0} + \\beta_{1} + \\beta_{2} \\\\\n",
    "\\end{align*}\n",
    "$$\n",
    "\n",
    "Based on this we can see\n",
    "\n",
    "| Parameter   | Interpretation                   |\n",
    "|-------------|--------------------------------- |\n",
    "| $\\beta_{0}$ | Mean of `(Other,Straight)` cell   |\n",
    "| $\\beta_{1}$ | Mean difference `(USA,Straight) - (Other,Straight)` |\n",
    "| $\\beta_{2}$ | Mean difference `(Other,V-shaped) - (Other,Straight)`   |"
   ]
  },
  {
   "cell_type": "code",
   "execution_count": 28,
   "id": "a3450611",
   "metadata": {
    "vscode": {
     "languageId": "r"
    }
   },
   "outputs": [
    {
     "name": "stdout",
     "output_type": "stream",
     "text": [
      "\n",
      "Call:\n",
      "lm(formula = mpg ~ origin + vs, data = mtcars)\n",
      "\n",
      "Residuals:\n",
      "    Min      1Q  Median      3Q     Max \n",
      "-7.7035 -3.2079  0.1795  1.9298  8.3965 \n",
      "\n",
      "Coefficients:\n",
      "            Estimate Std. Error t value Pr(>|t|)    \n",
      "(Intercept)   25.504      1.157  22.036  < 2e-16 ***\n",
      "originUSA     -4.416      1.587  -2.783  0.00939 ** \n",
      "vsv-shaped    -6.433      1.571  -4.094  0.00031 ***\n",
      "---\n",
      "Signif. codes:  0 ‘***’ 0.001 ‘**’ 0.01 ‘*’ 0.05 ‘.’ 0.1 ‘ ’ 1\n",
      "\n",
      "Residual standard error: 4.139 on 29 degrees of freedom\n",
      "Multiple R-squared:  0.5588,\tAdjusted R-squared:  0.5283 \n",
      "F-statistic: 18.36 on 2 and 29 DF,  p-value: 7.044e-06\n",
      "\n"
     ]
    }
   ],
   "source": [
    "add.mod <- lm(mpg ~ origin + vs, data=mtcars)\n",
    "print(summary(add.mod))"
   ]
  },
  {
   "cell_type": "code",
   "execution_count": 22,
   "id": "9c416800",
   "metadata": {
    "vscode": {
     "languageId": "r"
    }
   },
   "outputs": [
    {
     "name": "stdout",
     "output_type": "stream",
     "text": [
      " model: mpg ~ origin * vs\n",
      "\n",
      " origin*vs effect\n",
      "       vs\n",
      "origin  straight v-shaped\n",
      "  Other 25.59091    18.95\n",
      "  USA   20.76667    14.75\n"
     ]
    }
   ],
   "source": [
    "library(effects)\n",
    "print(allEffects(lm(mpg ~ origin*vs, data=mtcars)))"
   ]
  },
  {
   "cell_type": "code",
   "execution_count": 24,
   "id": "3eca57d8",
   "metadata": {
    "vscode": {
     "languageId": "r"
    }
   },
   "outputs": [
    {
     "data": {
      "text/html": [
       "25.5909090909091"
      ],
      "text/latex": [
       "25.5909090909091"
      ],
      "text/markdown": [
       "25.5909090909091"
      ],
      "text/plain": [
       "[1] 25.59091"
      ]
     },
     "metadata": {},
     "output_type": "display_data"
    }
   ],
   "source": [
    "mean(mtcars$mpg[mtcars$origin == 'Other' & mtcars$vs == 'straight'])"
   ]
  },
  {
   "cell_type": "markdown",
   "id": "2420f97b",
   "metadata": {},
   "source": [
    "### Main Effects\n",
    "\n",
    "Notice in this model that there is a constant difference between the rows and a constant difference between the columns\n",
    "\n",
    "$$\n",
    "SS_{\\text{model}} = SS_{A} + SS_{B}\n",
    "$$"
   ]
  },
  {
   "cell_type": "code",
   "execution_count": null,
   "id": "cc6f332d",
   "metadata": {
    "vscode": {
     "languageId": "r"
    }
   },
   "outputs": [
    {
     "name": "stdout",
     "output_type": "stream",
     "text": [
      "      straight v.shaped\n",
      "Other 25.50350 19.07019\n",
      "USA   21.08716 14.65385\n"
     ]
    }
   ],
   "source": [
    "beta       <- coef(add.mod)\n",
    "mu.Other_S <- beta[1]\n",
    "mu.USA_S   <- beta[1] + beta[2]\n",
    "mu.Other_V <- beta[1] + beta[3]\n",
    "mu.USA_V   <- beta[1] + beta[2] + beta[3]\n",
    "\n",
    "add.cell.means <- data.frame(\"straight\"=c(mu.Other_S,mu.USA_S), \n",
    "                             \"v.shaped\"=c(mu.Other_V,mu.USA_V), \n",
    "                             row.names=c(\"Other\",\"USA\"))\n",
    "print(add.cell.means)"
   ]
  },
  {
   "cell_type": "markdown",
   "id": "253f4e66",
   "metadata": {},
   "source": [
    "This also explains why it is possible to get the final cell mean by using $\\beta_{0} + \\beta_{1} + \\beta_{2}$, because this starts at the baseline cell, moves down a row (using the row difference $\\beta_{1}$) and then across a column (using the column difference $\\beta_{2}$).\n",
    "\n",
    "However, notice that these estimated means are *not* the actual cell means. If all the effects in the data truly were *additive* then the estimated means would be the same as the cell means. However, because they are not this suggests that something else is going on here. The additive assumption has placed a *constraint* on the model, producing adjusted cell means that allow this assumption to work. Because these differ from the actual cells, the model will not fit as well as a model that lifts this constraint. As we saw above, the additive model assumes that there is a *constant* row difference and a *constant* column difference. But what if that was not true? What is the row difference actually depends upon the column, or if the column difference actually depends upon the row? The fact that the additive model had to use cell means that are different to the true means suggests that this is in fact what is going on. This effect is known as an *interaction*. "
   ]
  },
  {
   "cell_type": "markdown",
   "id": "2c1f3651",
   "metadata": {},
   "source": [
    "## Adding an Interaction Term - The Full Factorial Model\n",
    "\n",
    "So, the interaction terms represents that \"bit extra\" that we need in order to allow the fitted means to be the same as the sample means. The additive model only gets us so far. The interaction terms allows for a cell-specific adjustment to shift the additive model means so that they are the actual cell means. The larger this adjustment, the larger the interaction effect. In other words, the more that effect of one factor depends upon the levels of the other. \n",
    "\n",
    "Note that you do not *have* to include an interaction. A typical approach in Psychology is always to specify a *full factorial* model containing every main effect and every possible interaction. In general, this is probably the approach you should take, otherwise you make strong assumptions that all interactions are 0. However, there is nothing that says you *have* to do this. You have the flexibility to only include the effects that you want in the model. You just have to be aware of the consequences of doing so. \n",
    "\n",
    "$$\n",
    "SS_{\\text{model}} = SS_{A} + SS_{B} + SS_{AB}\n",
    "$$\n",
    "\n",
    "### Cell Means and Marginal Means"
   ]
  },
  {
   "cell_type": "markdown",
   "id": "69fe63c1",
   "metadata": {},
   "source": [
    "\n",
    "```{admonition} Interaction notation\n",
    ":class: tip\n",
    "There are different conventions for writing an interaction into a model. Some authors like to add an additional symbol to denote the interaction, leaving the subscripts to imply that the term is an interaction rather than a main effect. For instance\n",
    "\n",
    "$$\n",
    "y_{ijk} = \\mu +\\alpha_{i} + \\beta_{j} + \\gamma_{ij} + \\epsilon_{ijk},\n",
    "$$\n",
    "\n",
    "where $\\gamma_{ij}$ is the interaction. Personally, we like to use the following notation as it makes the interaction terms much more explicit, particularly in terms of which effects the interaction corresponds to\n",
    "\n",
    "$$\n",
    "y_{ijk} = \\mu +\\alpha_{i} + \\beta_{j} + (\\alpha\\beta)_{ij} + \\epsilon_{ijk}.\n",
    "$$\n",
    "\n",
    "For a model containing multiple interactions, this helps to make the meaning of the terms clearer, rather than somewhat hiding it in the subscripts. For instance, a 3-way full factorial ANOVA would be\n",
    "\n",
    "$$\n",
    "y_{ijkl} = \\mu +\\alpha_{i} + \\beta_{j} + \\gamma_{k} + (\\alpha\\beta)_{ij} + (\\beta\\gamma)_{jk} + (\\alpha\\gamma)_{ik} + (\\alpha\\beta\\gamma)_{ijk} + \\epsilon_{ijkl},\n",
    "$$\n",
    "\n",
    "where each main effect, 2-way interaction and 3-way interaction is clearly denoted.\n",
    "```"
   ]
  },
  {
   "cell_type": "markdown",
   "id": "f10cbb17",
   "metadata": {},
   "source": [
    "\n",
    "### Interactions as Multiplicative Effects"
   ]
  },
  {
   "cell_type": "markdown",
   "id": "5bdf905e",
   "metadata": {},
   "source": []
  }
 ],
 "metadata": {
  "kernelspec": {
   "display_name": "R",
   "language": "R",
   "name": "ir"
  },
  "language_info": {
   "codemirror_mode": "r",
   "file_extension": ".r",
   "mimetype": "text/x-r-source",
   "name": "R",
   "pygments_lexer": "r",
   "version": "4.5.0"
  }
 },
 "nbformat": 4,
 "nbformat_minor": 5
}
