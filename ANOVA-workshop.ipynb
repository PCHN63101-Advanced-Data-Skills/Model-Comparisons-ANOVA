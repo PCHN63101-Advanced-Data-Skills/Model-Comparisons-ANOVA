{
 "cells": [
  {
   "cell_type": "markdown",
   "id": "72166798",
   "metadata": {},
   "source": [
    "# ANOVA Workshop"
   ]
  },
  {
   "cell_type": "markdown",
   "id": "45cd1ff2",
   "metadata": {},
   "source": [
    "## Unbalanced ANOVA Models"
   ]
  },
  {
   "cell_type": "code",
   "execution_count": null,
   "id": "e058dad5",
   "metadata": {
    "vscode": {
     "languageId": "r"
    }
   },
   "outputs": [],
   "source": []
  }
 ],
 "metadata": {
  "kernelspec": {
   "display_name": "R",
   "language": "R",
   "name": "ir"
  },
  "language_info": {
   "name": "R"
  }
 },
 "nbformat": 4,
 "nbformat_minor": 5
}
